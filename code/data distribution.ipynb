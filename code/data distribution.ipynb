{
 "cells": [
  {
   "cell_type": "code",
   "execution_count": 1,
   "id": "faced-giant",
   "metadata": {
    "ExecuteTime": {
     "end_time": "2022-10-24T18:04:36.950756Z",
     "start_time": "2022-10-24T18:04:36.141869Z"
    }
   },
   "outputs": [],
   "source": [
    "#2022-10-24 14:34:59 \n",
    "import os\n",
    "import pandas as pd \n",
    "import numpy as np \n",
    "import seaborn as sns\n",
    "\n",
    "import matplotlib as mpl\n",
    "mpl.rcParams['pdf.fonttype'] = 42\n",
    "mpl.rcParams['ps.fonttype'] = 42\n",
    "\n",
    "from matplotlib import font_manager\n",
    "# Add every font at the specified location\n",
    "font_dir = ['/home/UTHSCSA/hef/Tools/miniconda3/fonts']\n",
    "for font in font_manager.findSystemFonts(font_dir):\n",
    "    font_manager.fontManager.addfont(font)\n",
    "# Set font family globally\n",
    "mpl.rcParams['font.family'] = 'Arial'\n",
    "\n",
    "\n",
    "import matplotlib.pyplot as plt\n",
    "import scipy as sp\n",
    "\n",
    "\n",
    "from datetime import datetime\n",
    "time = datetime.now().strftime(\"%Y_%m_%d\")\n",
    "\n",
    "import matplotlib.gridspec as gridspec\n"
   ]
  },
  {
   "cell_type": "code",
   "execution_count": 2,
   "id": "hybrid-debut",
   "metadata": {
    "ExecuteTime": {
     "end_time": "2022-10-24T18:04:36.963985Z",
     "start_time": "2022-10-24T18:04:36.952405Z"
    }
   },
   "outputs": [],
   "source": [
    "## add cancer info\n",
    "cancer = pd.read_table('/home/UTHSCSA/hef/2.Project/5.PDX/2.analysis/master_table.v5.txt')\n",
    "cancer = cancer[['ID','Final Diagnosis (Laura)','Disease Code level 2', 'Disease Code level 1', 'Tumor Collected (Primary or Met)','Gender','Age(year)','Therapy prior to PDX collection']]\n",
    "def add_cancer_info(data, column):\n",
    "    k = []\n",
    "    for ids in list(data[column]):\n",
    "        if str(ids) in list(cancer['ID']):\n",
    "            k.append(list(cancer[cancer['ID'] == str(ids)].iloc[0]))\n",
    "        else:\n",
    "            k.append(['NA'] * 8)\n",
    "    data[['PDXID','Tumor Class','Tumor group','Tumor group2', 'Primary or Met','Gender','Age(year)','Therapy prior to PDX collection'] ]= pd.DataFrame(k)\n",
    "    return data\n",
    "\n"
   ]
  },
  {
   "cell_type": "code",
   "execution_count": 3,
   "id": "brave-convenience",
   "metadata": {
    "ExecuteTime": {
     "end_time": "2022-10-24T18:04:36.975761Z",
     "start_time": "2022-10-24T18:04:36.966419Z"
    }
   },
   "outputs": [],
   "source": [
    "a,b,c,d,e,f,g,h,i = [plt.cm.winter, plt.cm.cool, plt.cm.spring, plt.cm.copper, plt.cm.bone, plt.cm.gist_heat, plt.cm.pink, plt.cm.summer, plt.cm.autumn]\n",
    "\n",
    "cancer_ranking_all = [ 'Osteosarcoma', 'Clear Cell Sarcoma', 'Other Sarcoma',   'Wilms Tumor', 'Hepatoblastoma','Germ Cell Tumor',   'Neuroblastoma', 'Other Tumor']\n",
    "color_ranking_all = ['brg', 'Oranges', 'Reds', 'Greens_r', 'Purples_r', 'Blues_r',  'nipy_spectral', 'Greys_r']\n",
    "\n",
    "color_ranking_palette = [ f(.6), f(.8), f(.3), h(.6), b(.6), a(.6), h(.2), e(.6)]\n",
    "\n",
    "cancer_ranking_all2 = [ 'Ovarian tumor', 'Wilms Tumor', 'Ewing Sarcoma', 'Mesothelioma', 'Clear Cell Sarcoma', 'Hepatoblastoma', 'Neuroblastoma',\n",
    "                        'Germ Cell Tumor', 'Pleomorphic Sarcoma', 'Adrenal cortical carcinoma', 'Osteosarcoma', 'ERMS', 'Glioblastoma']\n",
    "color_ranking_palette2 = ['darkred',h(.6), 'red', 'gold', f(.3), b(.6), h(.2),a(.6), 'firebrick', 'hotpink', f(.6), f(.7), 'darkviolet']\n",
    "\n",
    "cancer_ranking_all3= [ 'Sarcoma',   'Wilms Tumor', 'Hepatoblastoma','Germ Cell Tumor',   'Neuroblastoma', 'Other Tumor']\n",
    "color_ranking_palette3 = [ f(.6), h(.6), b(.6), a(.6), h(.2), e(.6)]\n"
   ]
  },
  {
   "cell_type": "code",
   "execution_count": 5,
   "id": "artificial-spotlight",
   "metadata": {
    "ExecuteTime": {
     "end_time": "2022-10-24T18:04:36.992680Z",
     "start_time": "2022-10-24T18:04:36.983438Z"
    }
   },
   "outputs": [],
   "source": [
    "cancer2 = pd.read_table('/home/UTHSCSA/hef/2.Project/5.PDX/2.analysis/master_table.v5.txt')\n",
    "en_time = cancer2[['ID','Disease Code level 2', 'Disease Code level 1','Engraftment time (P0-P1)', 'Therapy prior to PDX collection']]\n",
    "en_time = en_time[en_time['Engraftment time (P0-P1)'].notna()]"
   ]
  },
  {
   "cell_type": "code",
   "execution_count": 6,
   "id": "elegant-lying",
   "metadata": {
    "ExecuteTime": {
     "end_time": "2022-10-24T18:04:36.999343Z",
     "start_time": "2022-10-24T18:04:36.994160Z"
    }
   },
   "outputs": [],
   "source": [
    "dt = en_time\n",
    "cancer_ranking = list(dt.groupby('Disease Code level 1').mean().sort_values('Engraftment time (P0-P1)', ascending=False).index)\n",
    "color_ranking = [color_ranking_palette[cancer_ranking_all.index(i)]  for i in cancer_ranking ]"
   ]
  },
  {
   "cell_type": "code",
   "execution_count": 7,
   "id": "official-headquarters",
   "metadata": {
    "ExecuteTime": {
     "end_time": "2022-10-24T18:04:38.804236Z",
     "start_time": "2022-10-24T18:04:37.001283Z"
    }
   },
   "outputs": [
    {
     "data": {
      "image/png": "[encoded data removed]",
      "text/plain": [
       "<Figure size 504x360 with 1 Axes>"
      ]
     },
     "metadata": {
      "needs_background": "light"
     },
     "output_type": "display_data"
    }
   ],
   "source": [
    "sns.set_context('notebook',font_scale = 1.4, rc = {'lines.linewidth':1}) #设置文本\n",
    "fig, ax = plt.subplots( figsize = (7,5 ))\n",
    "p = sns.barplot(data = dt, x=\"Disease Code level 1\", y=\"Engraftment time (P0-P1)\", order=cancer_ranking, palette= color_ranking,\n",
    "                ci=68,  capsize=.2, errwidth = 1, n_boot=10000, saturation=0.9, \n",
    "               )\n",
    "\n",
    "plt.ylabel('Engraftment time (weeks)')\n",
    "plt.xlabel('')\n",
    "plt.xticks(rotation = 90)\n",
    "sns.despine()\n",
    "#plt.savefig('/home/UTHSCSA/hef/2.Project/5.PDX/3.plot/1.data_distribution/Engraftment_time.barplot.SE.'+time+'.pdf', format='pdf', dpi = 600,  bbox_inches='tight')"
   ]
  },
  {
   "cell_type": "code",
   "execution_count": 8,
   "id": "nutritional-honolulu",
   "metadata": {
    "ExecuteTime": {
     "end_time": "2022-10-24T18:04:38.816565Z",
     "start_time": "2022-10-24T18:04:38.806029Z"
    }
   },
   "outputs": [
    {
     "data": {
      "text/html": [
       "<div>\n",
       "<style scoped>\n",
       "    .dataframe tbody tr th:only-of-type {\n",
       "        vertical-align: middle;\n",
       "    }\n",
       "\n",
       "    .dataframe tbody tr th {\n",
       "        vertical-align: top;\n",
       "    }\n",
       "\n",
       "    .dataframe thead th {\n",
       "        text-align: right;\n",
       "    }\n",
       "</style>\n",
       "<table border=\"1\" class=\"dataframe\">\n",
       "  <thead>\n",
       "    <tr style=\"text-align: right;\">\n",
       "      <th></th>\n",
       "      <th>Engraftment time (P0-P1)</th>\n",
       "    </tr>\n",
       "    <tr>\n",
       "      <th>Disease Code level 1</th>\n",
       "      <th></th>\n",
       "    </tr>\n",
       "  </thead>\n",
       "  <tbody>\n",
       "    <tr>\n",
       "      <th>Neuroblastoma</th>\n",
       "      <td>29.750000</td>\n",
       "    </tr>\n",
       "    <tr>\n",
       "      <th>Other Tumor</th>\n",
       "      <td>28.277778</td>\n",
       "    </tr>\n",
       "    <tr>\n",
       "      <th>Clear Cell Sarcoma</th>\n",
       "      <td>26.166667</td>\n",
       "    </tr>\n",
       "    <tr>\n",
       "      <th>Other Sarcoma</th>\n",
       "      <td>25.000000</td>\n",
       "    </tr>\n",
       "    <tr>\n",
       "      <th>Osteosarcoma</th>\n",
       "      <td>21.250000</td>\n",
       "    </tr>\n",
       "    <tr>\n",
       "      <th>Germ Cell Tumor</th>\n",
       "      <td>20.600000</td>\n",
       "    </tr>\n",
       "    <tr>\n",
       "      <th>Wilms Tumor</th>\n",
       "      <td>20.000000</td>\n",
       "    </tr>\n",
       "    <tr>\n",
       "      <th>Hepatoblastoma</th>\n",
       "      <td>13.291667</td>\n",
       "    </tr>\n",
       "  </tbody>\n",
       "</table>\n",
       "</div>"
      ],
      "text/plain": [
       "                      Engraftment time (P0-P1)\n",
       "Disease Code level 1                          \n",
       "Neuroblastoma                        29.750000\n",
       "Other Tumor                          28.277778\n",
       "Clear Cell Sarcoma                   26.166667\n",
       "Other Sarcoma                        25.000000\n",
       "Osteosarcoma                         21.250000\n",
       "Germ Cell Tumor                      20.600000\n",
       "Wilms Tumor                          20.000000\n",
       "Hepatoblastoma                       13.291667"
      ]
     },
     "execution_count": 8,
     "metadata": {},
     "output_type": "execute_result"
    }
   ],
   "source": [
    "en_time.groupby('Disease Code level 1').mean().T[cancer_ranking].T[['Engraftment time (P0-P1)']]"
   ]
  },
  {
   "cell_type": "code",
   "execution_count": 9,
   "id": "alleged-wrapping",
   "metadata": {
    "ExecuteTime": {
     "end_time": "2022-10-24T18:04:38.828731Z",
     "start_time": "2022-10-24T18:04:38.819335Z"
    }
   },
   "outputs": [
    {
     "data": {
      "text/html": [
       "<div>\n",
       "<style scoped>\n",
       "    .dataframe tbody tr th:only-of-type {\n",
       "        vertical-align: middle;\n",
       "    }\n",
       "\n",
       "    .dataframe tbody tr th {\n",
       "        vertical-align: top;\n",
       "    }\n",
       "\n",
       "    .dataframe thead th {\n",
       "        text-align: right;\n",
       "    }\n",
       "</style>\n",
       "<table border=\"1\" class=\"dataframe\">\n",
       "  <thead>\n",
       "    <tr style=\"text-align: right;\">\n",
       "      <th></th>\n",
       "      <th># of Transplanted</th>\n",
       "      <th># of PDX obtained</th>\n",
       "      <th>Success rate</th>\n",
       "      <th>Samples</th>\n",
       "    </tr>\n",
       "  </thead>\n",
       "  <tbody>\n",
       "    <tr>\n",
       "      <th>Clear Cell Sarcoma</th>\n",
       "      <td>3</td>\n",
       "      <td>3</td>\n",
       "      <td>1.000000</td>\n",
       "      <td>3</td>\n",
       "    </tr>\n",
       "    <tr>\n",
       "      <th>Wilms Tumor</th>\n",
       "      <td>21</td>\n",
       "      <td>18</td>\n",
       "      <td>0.857143</td>\n",
       "      <td>14</td>\n",
       "    </tr>\n",
       "    <tr>\n",
       "      <th>Osteosarcoma</th>\n",
       "      <td>21</td>\n",
       "      <td>14</td>\n",
       "      <td>0.666667</td>\n",
       "      <td>13</td>\n",
       "    </tr>\n",
       "    <tr>\n",
       "      <th>Sarcoma</th>\n",
       "      <td>35</td>\n",
       "      <td>21</td>\n",
       "      <td>0.600000</td>\n",
       "      <td>19</td>\n",
       "    </tr>\n",
       "    <tr>\n",
       "      <th>Other Sarcoma</th>\n",
       "      <td>12</td>\n",
       "      <td>6</td>\n",
       "      <td>0.500000</td>\n",
       "      <td>3</td>\n",
       "    </tr>\n",
       "    <tr>\n",
       "      <th>Germ Cell Tumor</th>\n",
       "      <td>25</td>\n",
       "      <td>12</td>\n",
       "      <td>0.480000</td>\n",
       "      <td>10</td>\n",
       "    </tr>\n",
       "    <tr>\n",
       "      <th>Hepatoblastoma</th>\n",
       "      <td>34</td>\n",
       "      <td>15</td>\n",
       "      <td>0.441176</td>\n",
       "      <td>13</td>\n",
       "    </tr>\n",
       "    <tr>\n",
       "      <th>Neuroblastoma</th>\n",
       "      <td>19</td>\n",
       "      <td>5</td>\n",
       "      <td>0.263158</td>\n",
       "      <td>4</td>\n",
       "    </tr>\n",
       "    <tr>\n",
       "      <th>Brain Tumor</th>\n",
       "      <td>22</td>\n",
       "      <td>5</td>\n",
       "      <td>0.227273</td>\n",
       "      <td>3</td>\n",
       "    </tr>\n",
       "  </tbody>\n",
       "</table>\n",
       "</div>"
      ],
      "text/plain": [
       "                    # of Transplanted  # of PDX obtained  Success rate  \\\n",
       "Clear Cell Sarcoma                  3                  3      1.000000   \n",
       "Wilms Tumor                        21                 18      0.857143   \n",
       "Osteosarcoma                       21                 14      0.666667   \n",
       "Sarcoma                            35                 21      0.600000   \n",
       "Other Sarcoma                      12                  6      0.500000   \n",
       "Germ Cell Tumor                    25                 12      0.480000   \n",
       "Hepatoblastoma                     34                 15      0.441176   \n",
       "Neuroblastoma                      19                  5      0.263158   \n",
       "Brain Tumor                        22                  5      0.227273   \n",
       "\n",
       "                    Samples  \n",
       "Clear Cell Sarcoma        3  \n",
       "Wilms Tumor              14  \n",
       "Osteosarcoma             13  \n",
       "Sarcoma                  19  \n",
       "Other Sarcoma             3  \n",
       "Germ Cell Tumor          10  \n",
       "Hepatoblastoma           13  \n",
       "Neuroblastoma             4  \n",
       "Brain Tumor               3  "
      ]
     },
     "execution_count": 9,
     "metadata": {},
     "output_type": "execute_result"
    }
   ],
   "source": [
    "rate = pd.read_table('/home/UTHSCSA/hef/2.Project/5.PDX/2.analysis/success_rate.txt', sep = '\\t',index_col=0).sort_values('Success rate', ascending = False)\n",
    "#rate[rate['# of Transplanted'] > 10]\n",
    "rate"
   ]
  },
  {
   "cell_type": "code",
   "execution_count": 10,
   "id": "civil-share",
   "metadata": {
    "ExecuteTime": {
     "end_time": "2022-10-24T18:04:38.833611Z",
     "start_time": "2022-10-24T18:04:38.830877Z"
    }
   },
   "outputs": [],
   "source": [
    "ranking = ['Clear Cell Sarcoma','Wilms Tumor', 'Osteosarcoma','Other Sarcoma', 'Germ Cell Tumor', 'Hepatoblastoma', 'Neuroblastoma', 'Brain Tumor']\n",
    "pal =  [color_ranking_palette[cancer_ranking_all.index(i)]  for i in ranking if i in cancer_ranking_all ] + ['darkviolet']"
   ]
  },
  {
   "cell_type": "code",
   "execution_count": 11,
   "id": "affecting-filling",
   "metadata": {
    "ExecuteTime": {
     "end_time": "2022-10-24T18:04:39.011173Z",
     "start_time": "2022-10-24T18:04:38.835403Z"
    }
   },
   "outputs": [
    {
     "data": {
      "image/png": "[encoded data removed]",
      "text/plain": [
       "<Figure size 504x360 with 1 Axes>"
      ]
     },
     "metadata": {
      "needs_background": "light"
     },
     "output_type": "display_data"
    }
   ],
   "source": [
    "sns.set_context('notebook',font_scale = 1.4, rc = {'lines.linewidth':1}) #设置文本\n",
    "fig, ax = plt.subplots( figsize = (7,5 ))\n",
    "p = sns.barplot(data = rate.reset_index(), x=\"index\", y=\"Success rate\", order=ranking, palette= pal,\n",
    "                ci=68,  capsize=.2, errwidth = 1, n_boot=10000, saturation=0.9,\n",
    "               )\n",
    "\n",
    "\n",
    "plt.ylabel('Engraftment rate')\n",
    "plt.xlabel('')\n",
    "plt.xticks(rotation = 90)\n",
    "plt.ylim(0,1)\n",
    "text_x = [-0.2,0.8,1.8,2.8,3.8,4.8,5.8,6.8]\n",
    "tb = [int(rate.loc[ranking[i]]['Samples']) for i in range(len(text_x))]\n",
    "p.bar_label(p.containers[0],  labels=tb, padding=3)\n",
    "\n",
    "sns.despine()\n",
    "\n",
    "#plt.savefig('/home/UTHSCSA/hef/2.Project/5.PDX/3.plot/1.data_distribution/Engraftment_rate.barplot.'+time+'.pdf', format='pdf', dpi = 600,  bbox_inches='tight')"
   ]
  },
  {
   "cell_type": "code",
   "execution_count": null,
   "id": "hungry-monster",
   "metadata": {
    "ExecuteTime": {
     "end_time": "2022-10-24T18:02:38.314929Z",
     "start_time": "2022-10-24T18:02:35.232Z"
    },
    "scrolled": true
   },
   "outputs": [],
   "source": []
  },
  {
   "cell_type": "code",
   "execution_count": 12,
   "id": "characteristic-asthma",
   "metadata": {
    "ExecuteTime": {
     "end_time": "2022-10-24T18:04:39.033787Z",
     "start_time": "2022-10-24T18:04:39.012860Z"
    }
   },
   "outputs": [
    {
     "data": {
      "text/html": [
       "<div>\n",
       "<style scoped>\n",
       "    .dataframe tbody tr th:only-of-type {\n",
       "        vertical-align: middle;\n",
       "    }\n",
       "\n",
       "    .dataframe tbody tr th {\n",
       "        vertical-align: top;\n",
       "    }\n",
       "\n",
       "    .dataframe thead tr th {\n",
       "        text-align: left;\n",
       "    }\n",
       "</style>\n",
       "<table border=\"1\" class=\"dataframe\">\n",
       "  <thead>\n",
       "    <tr>\n",
       "      <th>ID</th>\n",
       "      <th colspan=\"2\" halign=\"left\">RNAseq</th>\n",
       "      <th colspan=\"3\" halign=\"left\">WES</th>\n",
       "      <th colspan=\"3\" halign=\"left\">WGS</th>\n",
       "    </tr>\n",
       "    <tr>\n",
       "      <th></th>\n",
       "      <th>PDX</th>\n",
       "      <th>PT</th>\n",
       "      <th>Germline</th>\n",
       "      <th>PDX</th>\n",
       "      <th>PT</th>\n",
       "      <th>Germline</th>\n",
       "      <th>PDX</th>\n",
       "      <th>PT</th>\n",
       "    </tr>\n",
       "  </thead>\n",
       "  <tbody>\n",
       "    <tr>\n",
       "      <th>1739</th>\n",
       "      <td>1739_PDX_RNAseq</td>\n",
       "      <td>1739_PT_RNAseq</td>\n",
       "      <td>/</td>\n",
       "      <td>1739_PDX_WES</td>\n",
       "      <td>1739_PT_WES</td>\n",
       "      <td>/</td>\n",
       "      <td>1739_PDX_WGS</td>\n",
       "      <td>1739_PT_WGS</td>\n",
       "    </tr>\n",
       "    <tr>\n",
       "      <th>1753</th>\n",
       "      <td>1753_PDX_RNAseq</td>\n",
       "      <td>/</td>\n",
       "      <td>1753_Germline_WES</td>\n",
       "      <td>1753_PDX_WES</td>\n",
       "      <td>1753_PT_WES</td>\n",
       "      <td>1753_Germline_WGS</td>\n",
       "      <td>1753_PDX_WGS</td>\n",
       "      <td>1753_PT_WGS</td>\n",
       "    </tr>\n",
       "    <tr>\n",
       "      <th>1754</th>\n",
       "      <td>1754_PDX_RNAseq</td>\n",
       "      <td>1754_PT_RNAseq</td>\n",
       "      <td>1754_Germline_WES</td>\n",
       "      <td>1754_PDX_WES</td>\n",
       "      <td>1754_PT_WES</td>\n",
       "      <td>1754_Germline_WGS</td>\n",
       "      <td>1754_PDX_WGS</td>\n",
       "      <td>1754_PT_WGS</td>\n",
       "    </tr>\n",
       "    <tr>\n",
       "      <th>1763</th>\n",
       "      <td>1763_PDX_RNAseq</td>\n",
       "      <td>/</td>\n",
       "      <td>/</td>\n",
       "      <td>1763_PDX_WES</td>\n",
       "      <td>1763_PT_WES</td>\n",
       "      <td>/</td>\n",
       "      <td>1763_PDX_WGS</td>\n",
       "      <td>1763_PT_WGS</td>\n",
       "    </tr>\n",
       "    <tr>\n",
       "      <th>1792</th>\n",
       "      <td>1792_PDX_RNAseq</td>\n",
       "      <td>1792_PT_RNAseq</td>\n",
       "      <td>1792_Germline_WES</td>\n",
       "      <td>1792_PDX_WES</td>\n",
       "      <td>1792_PT_WES</td>\n",
       "      <td>1792_Germline_WGS</td>\n",
       "      <td>1792_PDX_WGS</td>\n",
       "      <td>1792_PT_WGS</td>\n",
       "    </tr>\n",
       "    <tr>\n",
       "      <th>...</th>\n",
       "      <td>...</td>\n",
       "      <td>...</td>\n",
       "      <td>...</td>\n",
       "      <td>...</td>\n",
       "      <td>...</td>\n",
       "      <td>...</td>\n",
       "      <td>...</td>\n",
       "      <td>...</td>\n",
       "    </tr>\n",
       "    <tr>\n",
       "      <th>891173</th>\n",
       "      <td>891173_PDX_RNAseq</td>\n",
       "      <td>/</td>\n",
       "      <td>/</td>\n",
       "      <td>891173_PDX_WES</td>\n",
       "      <td>/</td>\n",
       "      <td>/</td>\n",
       "      <td>891173_PDX_WGS</td>\n",
       "      <td>/</td>\n",
       "    </tr>\n",
       "    <tr>\n",
       "      <th>891760</th>\n",
       "      <td>891760_PDX_RNAseq</td>\n",
       "      <td>/</td>\n",
       "      <td>/</td>\n",
       "      <td>891760_PDX_WES</td>\n",
       "      <td>/</td>\n",
       "      <td>/</td>\n",
       "      <td>891760_PDX_WGS</td>\n",
       "      <td>/</td>\n",
       "    </tr>\n",
       "    <tr>\n",
       "      <th>892257</th>\n",
       "      <td>892257_PDX_RNAseq</td>\n",
       "      <td>/</td>\n",
       "      <td>/</td>\n",
       "      <td>892257_PDX_WES</td>\n",
       "      <td>/</td>\n",
       "      <td>/</td>\n",
       "      <td>892257_PDX_WGS</td>\n",
       "      <td>/</td>\n",
       "    </tr>\n",
       "    <tr>\n",
       "      <th>895452</th>\n",
       "      <td>895452_PDX_RNAseq</td>\n",
       "      <td>/</td>\n",
       "      <td>/</td>\n",
       "      <td>895452_PDX_WES</td>\n",
       "      <td>/</td>\n",
       "      <td>/</td>\n",
       "      <td>895452_PDX_WGS</td>\n",
       "      <td>/</td>\n",
       "    </tr>\n",
       "    <tr>\n",
       "      <th>896751</th>\n",
       "      <td>/</td>\n",
       "      <td>/</td>\n",
       "      <td>/</td>\n",
       "      <td>896751_PDX_WES</td>\n",
       "      <td>/</td>\n",
       "      <td>/</td>\n",
       "      <td>896751_PDX_WGS</td>\n",
       "      <td>/</td>\n",
       "    </tr>\n",
       "  </tbody>\n",
       "</table>\n",
       "<p>70 rows × 8 columns</p>\n",
       "</div>"
      ],
      "text/plain": [
       "ID                 RNAseq                                WES                  \\\n",
       "                      PDX              PT           Germline             PDX   \n",
       "1739      1739_PDX_RNAseq  1739_PT_RNAseq                  /    1739_PDX_WES   \n",
       "1753      1753_PDX_RNAseq               /  1753_Germline_WES    1753_PDX_WES   \n",
       "1754      1754_PDX_RNAseq  1754_PT_RNAseq  1754_Germline_WES    1754_PDX_WES   \n",
       "1763      1763_PDX_RNAseq               /                  /    1763_PDX_WES   \n",
       "1792      1792_PDX_RNAseq  1792_PT_RNAseq  1792_Germline_WES    1792_PDX_WES   \n",
       "...                   ...             ...                ...             ...   \n",
       "891173  891173_PDX_RNAseq               /                  /  891173_PDX_WES   \n",
       "891760  891760_PDX_RNAseq               /                  /  891760_PDX_WES   \n",
       "892257  892257_PDX_RNAseq               /                  /  892257_PDX_WES   \n",
       "895452  895452_PDX_RNAseq               /                  /  895452_PDX_WES   \n",
       "896751                  /               /                  /  896751_PDX_WES   \n",
       "\n",
       "ID                                 WGS                               \n",
       "                 PT           Germline             PDX           PT  \n",
       "1739    1739_PT_WES                  /    1739_PDX_WGS  1739_PT_WGS  \n",
       "1753    1753_PT_WES  1753_Germline_WGS    1753_PDX_WGS  1753_PT_WGS  \n",
       "1754    1754_PT_WES  1754_Germline_WGS    1754_PDX_WGS  1754_PT_WGS  \n",
       "1763    1763_PT_WES                  /    1763_PDX_WGS  1763_PT_WGS  \n",
       "1792    1792_PT_WES  1792_Germline_WGS    1792_PDX_WGS  1792_PT_WGS  \n",
       "...             ...                ...             ...          ...  \n",
       "891173            /                  /  891173_PDX_WGS            /  \n",
       "891760            /                  /  891760_PDX_WGS            /  \n",
       "892257            /                  /  892257_PDX_WGS            /  \n",
       "895452            /                  /  895452_PDX_WGS            /  \n",
       "896751            /                  /  896751_PDX_WGS            /  \n",
       "\n",
       "[70 rows x 8 columns]"
      ]
     },
     "execution_count": 12,
     "metadata": {},
     "output_type": "execute_result"
    }
   ],
   "source": [
    "info = pd.read_table( '/home/UTHSCSA/hef/2.Project/5.PDX/2.analysis/master_table.v5.txt', sep = '\\t', index_col=0)\n",
    "\n",
    "df = pd.read_table('/home/UTHSCSA/hef/2.Project/5.PDX/3.plot/1.data_distribution/pdx_dis.table.txt', sep = '\\t', header=[0,1], index_col=0)\n",
    "df = df.drop('1837', axis = 0)\n",
    "#df = df.drop('1947', as = 0)\n",
    "df "
   ]
  },
  {
   "cell_type": "code",
   "execution_count": 13,
   "id": "inclusive-fight",
   "metadata": {
    "ExecuteTime": {
     "end_time": "2022-10-24T18:04:39.112544Z",
     "start_time": "2022-10-24T18:04:39.035382Z"
    },
    "scrolled": true
   },
   "outputs": [],
   "source": [
    "df[df == '/'] = np.nan\n",
    "df = df. where(~df.notna(), 1).fillna(0)\n",
    "\n",
    "df['Sum'] = df.T.sum()\n",
    "\n",
    "df['Tumor_group']  = [info.loc[i]['Disease Code level 1'] for i in list(df.index) ] \n",
    "df['Race']  = [info.loc[i]['Race'] for i in list(df.index) ] \n",
    "df['Ethnicity']  = [info.loc[i]['Ethnicity'] for i in list(df.index) ] \n",
    "df['Gender']  = [info.loc[i]['Gender'] for i in list(df.index) ] \n",
    "df['Age']  = [info.loc[i]['Age(year)'] for i in list(df.index) ] \n",
    "df['Primary']  = [info.loc[i]['Tumor Collected (Primary or Met)'] for i in list(df.index) ] \n",
    "df['Therapy']  = [info.loc[i]['Therapy prior to PDX collection'] for i in list(df.index) ] "
   ]
  },
  {
   "cell_type": "code",
   "execution_count": 14,
   "id": "clinical-pizza",
   "metadata": {
    "ExecuteTime": {
     "end_time": "2022-10-24T18:04:39.144245Z",
     "start_time": "2022-10-24T18:04:39.114063Z"
    },
    "scrolled": true
   },
   "outputs": [],
   "source": [
    "dt = df.replace(' $', '', regex = True)\n",
    "\n",
    "dt = dt.replace('Germ Cell Tumor', 0).replace('Hepatoblastoma', 1).replace('Osteosarcoma', 2).replace('Clear Cell Sarcoma', 3).replace('Other Sarcoma', 4).replace('Wilms Tumor', 5).replace('Neuroblastoma', 6).replace('Other Tumor', 7)\n",
    "dt = dt.replace('Not Hispanic or Latino', 1).replace('Non-Hispanic', 1).replace('Hispanic', 2).replace('Hispanic or Latino', 2)\n",
    "dt = dt.replace('Other', 0).replace('Asian/Filipino', 1).replace('Asian', 1).replace('White', 2).replace('Black or AA', 3).replace('AA', 3).replace('White (Arabic)', 2)\n",
    "dt = dt.replace('Male', 1).replace('Female', 2)\n",
    "dt = dt.replace('primary', 1).replace('primary/recurrent', 1).replace('metastatic', 2)\n",
    "dt = dt.replace('no treatment', 1).replace('No treatment', 1).replace('Chemotherapy', 2).replace('chemotherapy', 2).replace('radiation', 3).replace('Yes (unspecified)', 3)\n",
    "dt = dt.replace('P', 1).replace('R', 2)\n",
    "\n",
    "dt = dt.fillna(0).astype(int).reset_index().sort_values(['Tumor_group','Sum','index'],  ascending=[True, False, True]).set_index('index')\n",
    "\n",
    "ht = dt[['RNAseq','WES','WGS']].T.reset_index()\n",
    "ht.columns = ['Seqtype', 'Datatype'] + list(ht.columns[2:])\n",
    "ht = ht.set_index(['Seqtype', 'Datatype'])"
   ]
  },
  {
   "cell_type": "code",
   "execution_count": 15,
   "id": "compatible-response",
   "metadata": {
    "ExecuteTime": {
     "end_time": "2022-10-24T18:04:39.152815Z",
     "start_time": "2022-10-24T18:04:39.145832Z"
    }
   },
   "outputs": [],
   "source": [
    "# custom colormap\n",
    "\n",
    "a,b,c,d,e,f,g,h,i = [plt.cm.winter, plt.cm.cool, plt.cm.spring, plt.cm.copper, plt.cm.bone, plt.cm.gist_heat, plt.cm.pink, plt.cm.summer, plt.cm.autumn]\n",
    "\n",
    "tumor_color = {'Germ Cell Tumor':a(.6),'Hepatoblastoma':b(.6), \n",
    "               'Osteosarcoma':f(.6),'Clear Cell Sarcoma':f(.8), 'Other Sarcoma':f(.3),\n",
    "               'Wilms Tumor':h(.6), 'Neuroblastoma':h(.2),  'Other Tumor':e(.6)}\n",
    "tumor_cmap = mpl.colors.LinearSegmentedColormap.from_list(\"\", list(tumor_color.values()), N=len(tumor_color))\n",
    "tumor_ranking = list(tumor_color.keys())\n",
    "\n",
    "seqtype_color = {'RNAseq':e(.6),'WES':g(.4), 'WGS':c(.7)}\n",
    "seqtype_cmap = mpl.colors.LinearSegmentedColormap.from_list(\"\", list(tumor_color.values()), N=len(seqtype_color))"
   ]
  },
  {
   "cell_type": "code",
   "execution_count": 16,
   "id": "emotional-dividend",
   "metadata": {
    "ExecuteTime": {
     "end_time": "2022-10-24T18:04:41.806568Z",
     "start_time": "2022-10-24T18:04:39.154670Z"
    },
    "scrolled": true
   },
   "outputs": [
    {
     "data": {
      "text/plain": [
       "[Text(0, 0.5, 'Germline'), Text(0, 1.5, 'PDX'), Text(0, 2.5, 'PT')]"
      ]
     },
     "execution_count": 16,
     "metadata": {},
     "output_type": "execute_result"
    },
    {
     "data": {
      "image/png": "[encoded data removed]",
      "text/plain": [
       "<Figure size 2016x432 with 20 Axes>"
      ]
     },
     "metadata": {
      "needs_background": "light"
     },
     "output_type": "display_data"
    }
   ],
   "source": [
    "fig, ax = plt.subplots(figsize=(28,6))\n",
    "gs = gridspec.GridSpec(10,2, wspace=0 , hspace=0, height_ratios=[1.5,1.5,1.5,1.5,1.5,1.5,1.5,3,4.5,4.5], width_ratios=[16,4]) #不同图片间隔\n",
    "\n",
    "ax1 = plt.subplot(gs[0, 0])\n",
    "ax2 = plt.subplot(gs[1, 0])\n",
    "ax3 = plt.subplot(gs[2, 0])\n",
    "ax4 = plt.subplot(gs[3, 0])\n",
    "ax5 = plt.subplot(gs[4, 0])\n",
    "ax6 = plt.subplot(gs[5, 0])\n",
    "ax7 = plt.subplot(gs[6, 0])\n",
    "\n",
    "ax_1 = plt.subplot(gs[7, 0])\n",
    "ax_2= plt.subplot(gs[8, 0])\n",
    "ax_3 = plt.subplot(gs[9, 0])\n",
    "\n",
    "# Tumor group\n",
    "g1 = sns.heatmap(\n",
    "            dt[['Tumor_group']].T.astype(int),\n",
    "            cmap=tumor_cmap, cbar_kws={\"aspect\": 5},\n",
    "            xticklabels = False, ax = ax1,\n",
    "            vmax = 7, vmin = 0,  \n",
    "        )\n",
    "g1.set(xlabel=None, ylabel=None, yticks = [0.5])\n",
    "#g1.set_yticks([0.5])\n",
    "g1.set_yticklabels(['Tumor'], rotation = 0, fontsize = 12) \n",
    "colorbar = g1.collections[0].colorbar\n",
    "colorbar.set_ticks([0,1,2,3,4,5,6,7])\n",
    "colorbar.set_ticklabels(tumor_ranking)\n",
    "\n",
    "#Gender\n",
    "g1 = sns.heatmap(\n",
    "            dt[['Gender']].T.astype(int),\n",
    "            cmap='Greys', cbar_kws={\"aspect\": 5},\n",
    "            xticklabels = False, ax = ax2,\n",
    "            vmax = 3, vmin = 0,  \n",
    "        )\n",
    "g1.set(xlabel=None, ylabel=None , yticks = [0.5])\n",
    "g1.set_yticklabels(['Gender'], rotation = 0, fontsize = 12) \n",
    "colorbar = g1.collections[0].colorbar\n",
    "colorbar.set_ticks([0,1,2])\n",
    "colorbar.set_ticklabels(['NA','Male', 'Female'])\n",
    "\n",
    "#Age\n",
    "g1 = sns.heatmap(\n",
    "            dt[['Age']].T.astype(int),\n",
    "            cmap='Reds', cbar_kws={\"aspect\": 5},\n",
    "            xticklabels = False, ax = ax3,\n",
    "            vmax = 15, vmin = 0,  \n",
    "        )\n",
    "g1.set(xlabel=None, ylabel=None, yticks = [0.5])\n",
    "g1.set_yticklabels(['Age'], rotation = 0, fontsize = 12) \n",
    "colorbar = g1.collections[0].colorbar\n",
    "colorbar.set_ticks([5,10,15])\n",
    "colorbar.set_ticklabels(['5','10', '15'])\n",
    "\n",
    "\n",
    "#Race\n",
    "g1 = sns.heatmap(\n",
    "            dt[['Race']].T.astype(int),\n",
    "            cmap='Set2_r', cbar_kws={\"aspect\": 5},\n",
    "            xticklabels = False, ax = ax4,\n",
    "            vmax = 3, vmin = 0,  \n",
    "        )\n",
    "g1.set(xlabel=None, ylabel=None, yticks = [0.5])\n",
    "g1.set_yticklabels(['Race'], rotation = 0, fontsize = 12) \n",
    "colorbar = g1.collections[0].colorbar\n",
    "colorbar.set_ticks([0,1,2,3])\n",
    "colorbar.set_ticklabels(['NA', 'Asian', 'White', 'AA'])\n",
    "\n",
    "\n",
    "#Ethnicity\n",
    "g1 = sns.heatmap(\n",
    "            dt[['Ethnicity']].T.astype(int),\n",
    "            cmap='Blues', cbar_kws={\"aspect\": 5},\n",
    "            xticklabels = False, ax = ax5,\n",
    "            vmax = 2, vmin = 0,  \n",
    "        )\n",
    "g1.set(xlabel=None, ylabel=None, yticks = [0.5])\n",
    "g1.set_yticklabels(['Ethnicity'], rotation = 0, fontsize = 12) \n",
    "colorbar = g1.collections[0].colorbar\n",
    "colorbar.set_ticks([0,1,2])\n",
    "colorbar.set_ticklabels(['NA', 'Non-Hispanic or Latino', 'Hispanic'])\n",
    "\n",
    "\n",
    "#Primary or Met\n",
    "g1 = sns.heatmap(\n",
    "            dt[['Primary']].T.astype(int),\n",
    "            cmap='Greys', cbar_kws={\"aspect\": 5},\n",
    "            xticklabels = False, ax = ax6,\n",
    "            vmax = 3, vmin = 0,  \n",
    "        )\n",
    "g1.set(xlabel=None, ylabel=None, yticks = [0.5])\n",
    "g1.set_yticklabels(['Primary or Met'], rotation = 0, fontsize = 12) \n",
    "colorbar = g1.collections[0].colorbar\n",
    "colorbar.set_ticks([0,1,2])\n",
    "colorbar.set_ticklabels(['NA', 'Primary', 'Metastatic'])\n",
    "\n",
    "\n",
    "#Treatment prior to PDX collection \n",
    "g1 = sns.heatmap(\n",
    "            dt[['Therapy']].T.astype(int),\n",
    "            cmap='Set1_r', cbar_kws={\"aspect\": 5},\n",
    "            xticklabels = False, ax = ax7,\n",
    "            vmax = 3, vmin = 0,  \n",
    "        )\n",
    "g1.set(xlabel=None, ylabel=None, yticks = [0.5])\n",
    "g1.set_yticklabels(['Therapy'], rotation = 0, fontsize = 12) \n",
    "colorbar = g1.collections[0].colorbar\n",
    "colorbar.set_ticks([0,1,2,3])\n",
    "colorbar.set_ticklabels(['NA', 'No Treatment', 'Chemotherapy', 'Other Treatment'])\n",
    "\n",
    "\n",
    "# heatmap - Blues\n",
    "g2 = sns.heatmap(ht.T[['RNAseq']].T.reset_index().drop('Seqtype',axis =1).set_index('Datatype'), \n",
    "                 cmap=mpl.colors.LinearSegmentedColormap.from_list(\"\", ['#D3D3D3'] + [seqtype_color['RNAseq']], N=2),\n",
    "            xticklabels=False, square=True, cbar = True, cbar_kws={\"aspect\": 8, \"shrink\": .2},\n",
    "            vmin = 0, vmax = 1, linewidths=1, ax = ax_1)\n",
    "g2.set(xlabel=None, ylabel = 'RNAseq')\n",
    "g2.set_yticks([0.5,1.5])\n",
    "g2.set_yticklabels(['PDX', 'PT'], rotation = 0, fontsize = 12) \n",
    "\n",
    "g3 = sns.heatmap(ht.T[['WES']].T.reset_index().drop('Seqtype',axis =1).set_index('Datatype'), \n",
    "                 cmap=mpl.colors.LinearSegmentedColormap.from_list(\"\", ['#D3D3D3'] + [seqtype_color['WES']], N=2), \n",
    "            xticklabels=False, square=True, cbar = True, cbar_kws={\"aspect\": 8, \"shrink\": .2},\n",
    "            vmin = 0, vmax = 1, linewidths=1, ax = ax_2)\n",
    "g3.set(xlabel=None, ylabel = 'WES')\n",
    "g3.set_yticks([0.5,1.5,2.5])\n",
    "g3.set_yticklabels(['Germline','PDX', 'PT'], rotation = 0, fontsize = 12) \n",
    "\n",
    "g3 = sns.heatmap(ht.T[['WGS']].T.reset_index().drop('Seqtype',axis =1).set_index('Datatype'), \n",
    "                 cmap=mpl.colors.LinearSegmentedColormap.from_list(\"\", ['#D3D3D3'] + [seqtype_color['WGS']], N=2),\n",
    "            xticklabels=True, square=True, cbar = True, cbar_kws={\"aspect\": 8, \"shrink\": .2},\n",
    "            vmin = 0, vmax = 1, linewidths=1, ax = ax_3)\n",
    "g3.set(xlabel=None, ylabel = 'WGS')\n",
    "g3.set_yticks([0.5,1.5,2.5])\n",
    "g3.set_yticklabels(['Germline','PDX', 'PT'], rotation = 0, fontsize = 12) \n",
    "\n",
    "#plt.savefig(indir+'/All_info.heatmap.raw.'+time+'.pdf', format='pdf', dpi = 600,  bbox_inches='tight')\n"
   ]
  },
  {
   "cell_type": "code",
   "execution_count": null,
   "id": "terminal-operations",
   "metadata": {},
   "outputs": [],
   "source": []
  }
 ],
 "metadata": {
  "kernelspec": {
   "display_name": "Python 3",
   "language": "python",
   "name": "python3"
  },
  "language_info": {
   "codemirror_mode": {
    "name": "ipython",
    "version": 3
   },
   "file_extension": ".py",
   "mimetype": "text/x-python",
   "name": "python",
   "nbconvert_exporter": "python",
   "pygments_lexer": "ipython3",
   "version": "3.8.12"
  },
  "toc": {
   "base_numbering": 1,
   "nav_menu": {},
   "number_sections": true,
   "sideBar": true,
   "skip_h1_title": false,
   "title_cell": "Table of Contents",
   "title_sidebar": "Contents",
   "toc_cell": false,
   "toc_position": {
    "height": "calc(100% - 180px)",
    "left": "10px",
    "top": "150px",
    "width": "234.055px"
   },
   "toc_section_display": true,
   "toc_window_display": true
  },
  "varInspector": {
   "cols": {
    "lenName": 16,
    "lenType": 16,
    "lenVar": 40
   },
   "kernels_config": {
    "python": {
     "delete_cmd_postfix": "",
     "delete_cmd_prefix": "del ",
     "library": "var_list.py",
     "varRefreshCmd": "print(var_dic_list())"
    },
    "r": {
     "delete_cmd_postfix": ") ",
     "delete_cmd_prefix": "rm(",
     "library": "var_list.r",
     "varRefreshCmd": "cat(var_dic_list()) "
    }
   },
   "types_to_exclude": [
    "module",
    "function",
    "builtin_function_or_method",
    "instance",
    "_Feature"
   ],
   "window_display": false
  }
 },
 "nbformat": 4,
 "nbformat_minor": 5
}
